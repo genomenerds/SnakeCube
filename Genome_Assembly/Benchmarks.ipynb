{
 "cells": [
  {
   "cell_type": "markdown",
   "metadata": {},
   "source": [
    "## Benchmarking and Optimization of SnakeCube's Genome Assembly containerized and automated pipelines"
   ]
  },
  {
   "cell_type": "code",
   "execution_count": 1,
   "metadata": {},
   "outputs": [],
   "source": [
    "import pandas as pd\n",
    "import plotly.express as px\n",
    "import plotly.graph_objects as go\n",
    "import numpy as np\n",
    "from plotly.subplots import make_subplots"
   ]
  },
  {
   "cell_type": "markdown",
   "metadata": {},
   "source": [
    "### Benchmarks for cpu load and memory"
   ]
  },
  {
   "cell_type": "code",
   "execution_count": 2,
   "metadata": {},
   "outputs": [],
   "source": [
    "#One matrix for each run (3 runs, using Lagocephalus' dataset)\n",
    "\n",
    "#Read all benchmarks1 and the watch output\n",
    "dfL1 = pd.read_csv('/home/nellie/Genome_Assembly/Load/LagoCPU1.csv',sep = \" \",names = [\"1min\",\"5min\",\"15min\",\"Entities\",\"PID\"])\n",
    "dfL1_fastq_c = pd.read_csv('/home/nellie/Genome_Assembly/Load/benchmarks1/fastq_c.csv',sep = \"\\t\")\n",
    "dfL1_trimming_s = pd.read_csv('/home/nellie/Genome_Assembly/Load/benchmarks1/trimming_s.csv',sep = \"\\t\")\n",
    "dfL1_fastq_c_t = pd.read_csv('/home/nellie/Genome_Assembly/Load/benchmarks1/fastq_c_t.csv',sep = \"\\t\")\n",
    "dfL1_nanoq_c = pd.read_csv('/home/nellie/Genome_Assembly/Load/benchmarks1/nanoq_c.csv',sep = \"\\t\")\n",
    "dfL1_trimming_l = pd.read_csv('/home/nellie/Genome_Assembly/Load/benchmarks1/trimming_l.csv',sep = \"\\t\")\n",
    "dfL1_nanoq_c_t = pd.read_csv('/home/nellie/Genome_Assembly/Load/benchmarks1/nanoq_c_t.csv',sep = \"\\t\")\n",
    "dfL1_flye = pd.read_csv('/home/nellie/Genome_Assembly/Load/benchmarks1/FlyeAssGenie.csv',sep = \"\\t\")\n",
    "dfL1_QA_1 = pd.read_csv('/home/nellie/Genome_Assembly/Load/benchmarks1/QA_1.csv',sep = \"\\t\")\n",
    "dfL1_polish = pd.read_csv('/home/nellie/Genome_Assembly/Load/benchmarks1/Polish.csv',sep = \"\\t\")\n",
    "dfL1_QA_2 = pd.read_csv('/home/nellie/Genome_Assembly/Load/benchmarks1/QA_2.csv',sep = \"\\t\")\n",
    "dfL1_pilon = pd.read_csv('/home/nellie/Genome_Assembly/Load/benchmarks1/Piloning.csv',sep = \"\\t\")\n",
    "\n",
    "\n",
    "\n",
    "#Read all benchmarks2 and the watch output\n",
    "dfL2 = pd.read_csv('/home/nellie/Genome_Assembly/Load/LagoCPU2.csv',sep = \" \",names = [\"1min\",\"5min\",\"15min\",\"Entities\",\"PID\"])\n",
    "dfL2_fastq_c = pd.read_csv('/home/nellie/Genome_Assembly/Load/benchmarks2/fastq_c.csv',sep = \"\\t\")\n",
    "dfL2_trimming_s = pd.read_csv('/home/nellie/Genome_Assembly/Load/benchmarks2/trimming_s.csv',sep = \"\\t\")\n",
    "dfL2_fastq_c_t = pd.read_csv('/home/nellie/Genome_Assembly/Load/benchmarks2/fastq_c_t.csv',sep = \"\\t\")\n",
    "dfL2_nanoq_c = pd.read_csv('/home/nellie/Genome_Assembly/Load/benchmarks2/nanoq_c.csv',sep = \"\\t\")\n",
    "dfL2_trimming_l = pd.read_csv('/home/nellie/Genome_Assembly/Load/benchmarks2/trimming_l.csv',sep = \"\\t\")\n",
    "dfL2_nanoq_c_t = pd.read_csv('/home/nellie/Genome_Assembly/Load/benchmarks2/nanoq_c_t.csv',sep = \"\\t\")\n",
    "dfL2_flye = pd.read_csv('/home/nellie/Genome_Assembly/Load/benchmarks2/FlyeAssGenie.csv',sep = \"\\t\")\n",
    "dfL2_QA_1 = pd.read_csv('/home/nellie/Genome_Assembly/Load/benchmarks2/QA_1.csv',sep = \"\\t\")\n",
    "dfL2_polish = pd.read_csv('/home/nellie/Genome_Assembly/Load/benchmarks2/Polish.csv',sep = \"\\t\")\n",
    "dfL2_QA_2 = pd.read_csv('/home/nellie/Genome_Assembly/Load/benchmarks2/QA_2.csv',sep = \"\\t\")\n",
    "dfL2_pilon = pd.read_csv('/home/nellie/Genome_Assembly/Load/benchmarks2/Piloning.csv',sep = \"\\t\")\n",
    "\n",
    "\n",
    "#Read all benchmarks3 and the watch output\n",
    "dfL3 = pd.read_csv('/home/nellie/Genome_Assembly/Load/LagoCPU3.csv',sep = \" \",names = [\"1min\",\"5min\",\"15min\",\"Entities\",\"PID\"])\n",
    "dfL3_fastq_c = pd.read_csv('/home/nellie/Genome_Assembly/Load/benchmarks3/fastq_c.csv',sep = \"\\t\")\n",
    "dfL3_trimming_s = pd.read_csv('/home/nellie/Genome_Assembly/Load/benchmarks3/trimming_s.csv',sep = \"\\t\")\n",
    "dfL3_fastq_c_t = pd.read_csv('/home/nellie/Genome_Assembly/Load/benchmarks3/fastq_c_t.csv',sep = \"\\t\")\n",
    "dfL3_nanoq_c = pd.read_csv('/home/nellie/Genome_Assembly/Load/benchmarks3/nanoq_c.csv',sep = \"\\t\")\n",
    "dfL3_trimming_l = pd.read_csv('/home/nellie/Genome_Assembly/Load/benchmarks3/trimming_l.csv',sep = \"\\t\")\n",
    "dfL3_nanoq_c_t = pd.read_csv('/home/nellie/Genome_Assembly/Load/benchmarks3/nanoq_c_t.csv',sep = \"\\t\")\n",
    "dfL3_flye = pd.read_csv('/home/nellie/Genome_Assembly/Load/benchmarks3/FlyeAssGenie.csv',sep = \"\\t\")\n",
    "dfL3_QA_1 = pd.read_csv('/home/nellie/Genome_Assembly/Load/benchmarks3/QA_1.csv',sep = \"\\t\")\n",
    "dfL3_polish = pd.read_csv('/home/nellie/Genome_Assembly/Load/benchmarks3/Polish.csv',sep = \"\\t\")\n",
    "dfL3_QA_2 = pd.read_csv('/home/nellie/Genome_Assembly/Load/benchmarks3/QA_2.csv',sep = \"\\t\")\n",
    "dfL3_pilon = pd.read_csv('/home/nellie/Genome_Assembly/Load/benchmarks3/Piloning.csv',sep = \"\\t\")\n",
    "\n",
    "\n",
    "#Concatenate and remove unwanted fields\n",
    "BenchL1 = pd.concat([dfL1_fastq_c,dfL1_trimming_s,dfL1_fastq_c_t,dfL1_nanoq_c,dfL1_trimming_l,dfL1_nanoq_c_t, dfL1_flye, dfL1_QA_1, dfL1_polish, dfL1_QA_2, dfL1_pilon],axis = 0)\n",
    "BenchL1=BenchL1.drop(['h:m:s', 'io_in', 'io_out', 'mean_load', 'max_pss','max_rss'], axis=1)\n",
    "\n",
    "\n",
    "BenchL2 = pd.concat([dfL2_fastq_c,dfL2_trimming_s,dfL2_fastq_c_t,dfL2_nanoq_c,dfL2_trimming_l,dfL2_nanoq_c_t, dfL2_flye, dfL2_QA_1, dfL2_polish, dfL2_QA_2, dfL2_pilon],axis = 0)\n",
    "BenchL2=BenchL2.drop(['h:m:s', 'io_in', 'io_out', 'mean_load', 'max_pss','max_rss'], axis=1)\n",
    "\n",
    "\n",
    "BenchL3 = pd.concat([dfL3_fastq_c,dfL3_trimming_s,dfL3_fastq_c_t,dfL3_nanoq_c,dfL3_trimming_l,dfL3_nanoq_c_t, dfL3_flye, dfL3_QA_1, dfL3_polish, dfL3_QA_2, dfL3_pilon],axis = 0)\n",
    "BenchL3=BenchL3.drop(['h:m:s', 'io_in', 'io_out', 'mean_load', 'max_pss','max_rss'], axis=1)\n",
    "    \n",
    "    \n",
    "#Benchmark Rules in running order\n",
    "BenchL1[\"Rules\"] = [\"fastq_c\",\"trimming_s\",\"fastq_c_t\",\"nanoq_c\",\"trimming_l\",\"nanoq_c_t\",\"Flye\",\"QA_1\",\"Polish\",\"QA_2\",\"Piloning\"] \n",
    "\n",
    "BenchL2[\"Rules\"] = [\"fastq_c\",\"trimming_s\",\"fastq_c_t\",\"nanoq_c\",\"trimming_l\",\"nanoq_c_t\",\"Flye\",\"QA_1\",\"Polish\",\"QA_2\",\"Piloning\"] \n",
    "\n",
    "BenchL3[\"Rules\"] = [\"fastq_c\",\"trimming_s\",\"fastq_c_t\",\"nanoq_c\",\"trimming_l\",\"nanoq_c_t\",\"Flye\",\"QA_1\",\"Polish\",\"QA_2\",\"Piloning\"] \n",
    "\n"
   ]
  },
  {
   "cell_type": "code",
   "execution_count": 4,
   "metadata": {
    "scrolled": true
   },
   "outputs": [],
   "source": [
    "Time_CombinedL1 = []\n",
    "#Increasing Time Benchmark\n",
    "for i in range(len(BenchL1)): \n",
    "    Time_CombinedL1.append(sum(BenchL1[\"s\"][:i+1]))\n",
    "\n",
    "\n",
    "Time_CombinedL2 = []\n",
    "#Increasing Time Benchmark\n",
    "for i in range(len(BenchL2)): \n",
    "    Time_CombinedL2.append(sum(BenchL2[\"s\"][:i+1]))\n",
    "\n",
    "\n",
    "Time_CombinedL3 = []\n",
    "#Increasing Time Benchmark\n",
    "for i in range(len(BenchL3)): \n",
    "    Time_CombinedL3.append(sum(BenchL3[\"s\"][:i+1]))\n",
    "\n",
    "\n",
    "#Add running time to the df \n",
    "BenchL1[\"Time\"] = Time_CombinedL1\n",
    "BenchL2[\"Time\"] = Time_CombinedL2\n",
    "BenchL3[\"Time\"] = Time_CombinedL3\n"
   ]
  },
  {
   "cell_type": "code",
   "execution_count": 5,
   "metadata": {},
   "outputs": [],
   "source": [
    "#Keep only 15min from watch loadavg\n",
    "dfL1=dfL1.drop(['1min', '5min', 'Entities', 'PID'], axis=1)\n",
    "dfL2=dfL2.drop(['1min', '5min', 'Entities', 'PID'], axis=1)\n",
    "dfL3=dfL3.drop(['1min', '5min', 'Entities', 'PID'], axis=1)\n",
    "\n",
    "\n",
    "\n",
    "#CPU_LOAD every 15min turned in seconds\n",
    "MinutesL1 = []\n",
    "for i in range(len(dfL1[\"15min\"])):\n",
    "    MinutesL1.append(900*i)\n",
    "\n",
    "MinutesL2 = []\n",
    "for i in range(len(dfL2[\"15min\"])):\n",
    "    MinutesL2.append(900*i)\n",
    "\n",
    "MinutesL3 = []\n",
    "for i in range(len(dfL3[\"15min\"])):\n",
    "    MinutesL3.append(900*i)\n",
    "\n",
    "\n",
    "dfL1[\"Watch_s\"]=MinutesL1\n",
    "dfL2[\"Watch_s\"]=MinutesL2\n",
    "dfL3[\"Watch_s\"]=MinutesL3\n",
    "\n",
    "dfL1.reset_index(drop = True, inplace= True)\n",
    "dfL2.reset_index(drop = True, inplace= True)\n",
    "dfL3.reset_index(drop = True, inplace= True)\n",
    "\n",
    "\n",
    "#Assign Watch Metrics to Rules according to their running time monitored by the internal benchmarks\n",
    "Rules_Load1 = []\n",
    "Rules_Load2 = []\n",
    "Rules_Load3 = []\n",
    "\n",
    "for i in range(len(BenchL1)):\n",
    "    for p in range(len(dfL1[\"Watch_s\"])):\n",
    "        if(BenchL1[i:i+1][\"Time\"][0] >= dfL1[\"Watch_s\"][p]) and (len(Rules_Load1)<=p):\n",
    "            Rules_Load1.append(list(BenchL1[\"Rules\"])[i])\n",
    "\n",
    "for i in range(len(BenchL2)):\n",
    "    for p in range(len(dfL2[\"Watch_s\"])):\n",
    "        if(BenchL2[i:i+1][\"Time\"][0] >= dfL2[\"Watch_s\"][p]) and (len(Rules_Load2)<=p):\n",
    "            Rules_Load2.append(list(BenchL2[\"Rules\"])[i])\n",
    "            \n",
    "for i in range(len(BenchL3)):\n",
    "    for p in range(len(dfL3[\"Watch_s\"])):\n",
    "        if(BenchL3[i:i+1][\"Time\"][0] >= dfL3[\"Watch_s\"][p]) and (len(Rules_Load3)<=p):\n",
    "            Rules_Load3.append(list(BenchL3[\"Rules\"])[i])\n",
    "            \n",
    "dfL1 = dfL1[:len(Rules_Load1)]\n",
    "dfL2 = dfL2[:len(Rules_Load2)]\n",
    "dfL3 = dfL3[:len(Rules_Load3)]\n",
    "\n",
    "dfL1[\"Rules\"]= Rules_Load1\n",
    "dfL2[\"Rules\"]= Rules_Load2\n",
    "dfL3[\"Rules\"]= Rules_Load3\n",
    "\n",
    "#Group by rule\n",
    "BenchL1[\"Load\"] = list(dfL1.groupby([\"Rules\"],sort=False).mean()[\"15min\"])\n",
    "BenchL2[\"Load\"] = list(dfL2.groupby([\"Rules\"],sort=False).mean()[\"15min\"])\n",
    "BenchL3[\"Load\"] = list(dfL3.groupby([\"Rules\"],sort=False).mean()[\"15min\"])\n"
   ]
  },
  {
   "cell_type": "code",
   "execution_count": 7,
   "metadata": {},
   "outputs": [],
   "source": [
    "#Get means out of the three runs\n",
    "\n",
    "BenchTime = pd.concat([BenchL1[\"s\"],BenchL2[\"s\"],BenchL3[\"s\"]],axis=1).mean(axis=1)\n",
    "BenchDuration = pd.concat([BenchL1[\"Time\"],BenchL2[\"Time\"],BenchL3[\"Time\"]],axis=1).mean(axis=1)\n",
    "BenchMem =  pd.concat([BenchL1[\"max_uss\"],BenchL2[\"max_uss\"],BenchL3[\"max_uss\"]],axis=1).mean(axis=1)\n",
    "BenchLoad =  pd.concat([BenchL1[\"Load\"],BenchL2[\"Load\"],BenchL3[\"Load\"]],axis=1).mean(axis=1)"
   ]
  },
  {
   "cell_type": "markdown",
   "metadata": {},
   "source": [
    "### Plot"
   ]
  },
  {
   "cell_type": "code",
   "execution_count": 13,
   "metadata": {},
   "outputs": [
    {
     "data": {
      "application/vnd.plotly.v1+json": {
       "config": {
        "plotlyServerURL": "https://plot.ly"
       },
       "data": [
        {
         "name": "Load Average",
         "type": "scatter",
         "x": [
          1174.3979666666667,
          3139.0261000000005,
          4042.2718,
          5958.839266666667,
          8191.6974,
          9331.913233333333,
          41990.7286,
          55291.05526666666,
          76760.62413333333,
          86342.48706666667,
          126144.66433333333
         ],
         "xaxis": "x",
         "y": [
          2.135,
          3.1566666666666667,
          2.65,
          4.25,
          6.285,
          7.9799999999999995,
          13.930648148148146,
          7.866071967248438,
          12.583128019323672,
          11.823212121212121,
          13.636879270647652
         ],
         "yaxis": "y"
        },
        {
         "name": "Memory USS",
         "type": "scatter",
         "x": [
          1174.3979666666667,
          3139.0261000000005,
          4042.2718,
          5958.839266666667,
          8191.6974,
          9331.913233333333,
          41990.7286,
          55291.05526666666,
          76760.62413333333,
          86342.48706666667,
          126144.66433333333
         ],
         "xaxis": "x",
         "y": [
          256.21666666666664,
          10834.476666666667,
          255.79333333333332,
          322.48333333333335,
          19721.26,
          275.49333333333334,
          98097.08,
          33082.25666666666,
          38905.65666666667,
          40395.56666666667,
          87363.61
         ],
         "yaxis": "y2"
        }
       ],
       "layout": {
        "template": {
         "data": {
          "bar": [
           {
            "error_x": {
             "color": "#2a3f5f"
            },
            "error_y": {
             "color": "#2a3f5f"
            },
            "marker": {
             "line": {
              "color": "#E5ECF6",
              "width": 0.5
             }
            },
            "type": "bar"
           }
          ],
          "barpolar": [
           {
            "marker": {
             "line": {
              "color": "#E5ECF6",
              "width": 0.5
             }
            },
            "type": "barpolar"
           }
          ],
          "carpet": [
           {
            "aaxis": {
             "endlinecolor": "#2a3f5f",
             "gridcolor": "white",
             "linecolor": "white",
             "minorgridcolor": "white",
             "startlinecolor": "#2a3f5f"
            },
            "baxis": {
             "endlinecolor": "#2a3f5f",
             "gridcolor": "white",
             "linecolor": "white",
             "minorgridcolor": "white",
             "startlinecolor": "#2a3f5f"
            },
            "type": "carpet"
           }
          ],
          "choropleth": [
           {
            "colorbar": {
             "outlinewidth": 0,
             "ticks": ""
            },
            "type": "choropleth"
           }
          ],
          "contour": [
           {
            "colorbar": {
             "outlinewidth": 0,
             "ticks": ""
            },
            "colorscale": [
             [
              0,
              "#0d0887"
             ],
             [
              0.1111111111111111,
              "#46039f"
             ],
             [
              0.2222222222222222,
              "#7201a8"
             ],
             [
              0.3333333333333333,
              "#9c179e"
             ],
             [
              0.4444444444444444,
              "#bd3786"
             ],
             [
              0.5555555555555556,
              "#d8576b"
             ],
             [
              0.6666666666666666,
              "#ed7953"
             ],
             [
              0.7777777777777778,
              "#fb9f3a"
             ],
             [
              0.8888888888888888,
              "#fdca26"
             ],
             [
              1,
              "#f0f921"
             ]
            ],
            "type": "contour"
           }
          ],
          "contourcarpet": [
           {
            "colorbar": {
             "outlinewidth": 0,
             "ticks": ""
            },
            "type": "contourcarpet"
           }
          ],
          "heatmap": [
           {
            "colorbar": {
             "outlinewidth": 0,
             "ticks": ""
            },
            "colorscale": [
             [
              0,
              "#0d0887"
             ],
             [
              0.1111111111111111,
              "#46039f"
             ],
             [
              0.2222222222222222,
              "#7201a8"
             ],
             [
              0.3333333333333333,
              "#9c179e"
             ],
             [
              0.4444444444444444,
              "#bd3786"
             ],
             [
              0.5555555555555556,
              "#d8576b"
             ],
             [
              0.6666666666666666,
              "#ed7953"
             ],
             [
              0.7777777777777778,
              "#fb9f3a"
             ],
             [
              0.8888888888888888,
              "#fdca26"
             ],
             [
              1,
              "#f0f921"
             ]
            ],
            "type": "heatmap"
           }
          ],
          "heatmapgl": [
           {
            "colorbar": {
             "outlinewidth": 0,
             "ticks": ""
            },
            "colorscale": [
             [
              0,
              "#0d0887"
             ],
             [
              0.1111111111111111,
              "#46039f"
             ],
             [
              0.2222222222222222,
              "#7201a8"
             ],
             [
              0.3333333333333333,
              "#9c179e"
             ],
             [
              0.4444444444444444,
              "#bd3786"
             ],
             [
              0.5555555555555556,
              "#d8576b"
             ],
             [
              0.6666666666666666,
              "#ed7953"
             ],
             [
              0.7777777777777778,
              "#fb9f3a"
             ],
             [
              0.8888888888888888,
              "#fdca26"
             ],
             [
              1,
              "#f0f921"
             ]
            ],
            "type": "heatmapgl"
           }
          ],
          "histogram": [
           {
            "marker": {
             "colorbar": {
              "outlinewidth": 0,
              "ticks": ""
             }
            },
            "type": "histogram"
           }
          ],
          "histogram2d": [
           {
            "colorbar": {
             "outlinewidth": 0,
             "ticks": ""
            },
            "colorscale": [
             [
              0,
              "#0d0887"
             ],
             [
              0.1111111111111111,
              "#46039f"
             ],
             [
              0.2222222222222222,
              "#7201a8"
             ],
             [
              0.3333333333333333,
              "#9c179e"
             ],
             [
              0.4444444444444444,
              "#bd3786"
             ],
             [
              0.5555555555555556,
              "#d8576b"
             ],
             [
              0.6666666666666666,
              "#ed7953"
             ],
             [
              0.7777777777777778,
              "#fb9f3a"
             ],
             [
              0.8888888888888888,
              "#fdca26"
             ],
             [
              1,
              "#f0f921"
             ]
            ],
            "type": "histogram2d"
           }
          ],
          "histogram2dcontour": [
           {
            "colorbar": {
             "outlinewidth": 0,
             "ticks": ""
            },
            "colorscale": [
             [
              0,
              "#0d0887"
             ],
             [
              0.1111111111111111,
              "#46039f"
             ],
             [
              0.2222222222222222,
              "#7201a8"
             ],
             [
              0.3333333333333333,
              "#9c179e"
             ],
             [
              0.4444444444444444,
              "#bd3786"
             ],
             [
              0.5555555555555556,
              "#d8576b"
             ],
             [
              0.6666666666666666,
              "#ed7953"
             ],
             [
              0.7777777777777778,
              "#fb9f3a"
             ],
             [
              0.8888888888888888,
              "#fdca26"
             ],
             [
              1,
              "#f0f921"
             ]
            ],
            "type": "histogram2dcontour"
           }
          ],
          "mesh3d": [
           {
            "colorbar": {
             "outlinewidth": 0,
             "ticks": ""
            },
            "type": "mesh3d"
           }
          ],
          "parcoords": [
           {
            "line": {
             "colorbar": {
              "outlinewidth": 0,
              "ticks": ""
             }
            },
            "type": "parcoords"
           }
          ],
          "pie": [
           {
            "automargin": true,
            "type": "pie"
           }
          ],
          "scatter": [
           {
            "marker": {
             "colorbar": {
              "outlinewidth": 0,
              "ticks": ""
             }
            },
            "type": "scatter"
           }
          ],
          "scatter3d": [
           {
            "line": {
             "colorbar": {
              "outlinewidth": 0,
              "ticks": ""
             }
            },
            "marker": {
             "colorbar": {
              "outlinewidth": 0,
              "ticks": ""
             }
            },
            "type": "scatter3d"
           }
          ],
          "scattercarpet": [
           {
            "marker": {
             "colorbar": {
              "outlinewidth": 0,
              "ticks": ""
             }
            },
            "type": "scattercarpet"
           }
          ],
          "scattergeo": [
           {
            "marker": {
             "colorbar": {
              "outlinewidth": 0,
              "ticks": ""
             }
            },
            "type": "scattergeo"
           }
          ],
          "scattergl": [
           {
            "marker": {
             "colorbar": {
              "outlinewidth": 0,
              "ticks": ""
             }
            },
            "type": "scattergl"
           }
          ],
          "scattermapbox": [
           {
            "marker": {
             "colorbar": {
              "outlinewidth": 0,
              "ticks": ""
             }
            },
            "type": "scattermapbox"
           }
          ],
          "scatterpolar": [
           {
            "marker": {
             "colorbar": {
              "outlinewidth": 0,
              "ticks": ""
             }
            },
            "type": "scatterpolar"
           }
          ],
          "scatterpolargl": [
           {
            "marker": {
             "colorbar": {
              "outlinewidth": 0,
              "ticks": ""
             }
            },
            "type": "scatterpolargl"
           }
          ],
          "scatterternary": [
           {
            "marker": {
             "colorbar": {
              "outlinewidth": 0,
              "ticks": ""
             }
            },
            "type": "scatterternary"
           }
          ],
          "surface": [
           {
            "colorbar": {
             "outlinewidth": 0,
             "ticks": ""
            },
            "colorscale": [
             [
              0,
              "#0d0887"
             ],
             [
              0.1111111111111111,
              "#46039f"
             ],
             [
              0.2222222222222222,
              "#7201a8"
             ],
             [
              0.3333333333333333,
              "#9c179e"
             ],
             [
              0.4444444444444444,
              "#bd3786"
             ],
             [
              0.5555555555555556,
              "#d8576b"
             ],
             [
              0.6666666666666666,
              "#ed7953"
             ],
             [
              0.7777777777777778,
              "#fb9f3a"
             ],
             [
              0.8888888888888888,
              "#fdca26"
             ],
             [
              1,
              "#f0f921"
             ]
            ],
            "type": "surface"
           }
          ],
          "table": [
           {
            "cells": {
             "fill": {
              "color": "#EBF0F8"
             },
             "line": {
              "color": "white"
             }
            },
            "header": {
             "fill": {
              "color": "#C8D4E3"
             },
             "line": {
              "color": "white"
             }
            },
            "type": "table"
           }
          ]
         },
         "layout": {
          "annotationdefaults": {
           "arrowcolor": "#2a3f5f",
           "arrowhead": 0,
           "arrowwidth": 1
          },
          "coloraxis": {
           "colorbar": {
            "outlinewidth": 0,
            "ticks": ""
           }
          },
          "colorscale": {
           "diverging": [
            [
             0,
             "#8e0152"
            ],
            [
             0.1,
             "#c51b7d"
            ],
            [
             0.2,
             "#de77ae"
            ],
            [
             0.3,
             "#f1b6da"
            ],
            [
             0.4,
             "#fde0ef"
            ],
            [
             0.5,
             "#f7f7f7"
            ],
            [
             0.6,
             "#e6f5d0"
            ],
            [
             0.7,
             "#b8e186"
            ],
            [
             0.8,
             "#7fbc41"
            ],
            [
             0.9,
             "#4d9221"
            ],
            [
             1,
             "#276419"
            ]
           ],
           "sequential": [
            [
             0,
             "#0d0887"
            ],
            [
             0.1111111111111111,
             "#46039f"
            ],
            [
             0.2222222222222222,
             "#7201a8"
            ],
            [
             0.3333333333333333,
             "#9c179e"
            ],
            [
             0.4444444444444444,
             "#bd3786"
            ],
            [
             0.5555555555555556,
             "#d8576b"
            ],
            [
             0.6666666666666666,
             "#ed7953"
            ],
            [
             0.7777777777777778,
             "#fb9f3a"
            ],
            [
             0.8888888888888888,
             "#fdca26"
            ],
            [
             1,
             "#f0f921"
            ]
           ],
           "sequentialminus": [
            [
             0,
             "#0d0887"
            ],
            [
             0.1111111111111111,
             "#46039f"
            ],
            [
             0.2222222222222222,
             "#7201a8"
            ],
            [
             0.3333333333333333,
             "#9c179e"
            ],
            [
             0.4444444444444444,
             "#bd3786"
            ],
            [
             0.5555555555555556,
             "#d8576b"
            ],
            [
             0.6666666666666666,
             "#ed7953"
            ],
            [
             0.7777777777777778,
             "#fb9f3a"
            ],
            [
             0.8888888888888888,
             "#fdca26"
            ],
            [
             1,
             "#f0f921"
            ]
           ]
          },
          "colorway": [
           "#636efa",
           "#EF553B",
           "#00cc96",
           "#ab63fa",
           "#FFA15A",
           "#19d3f3",
           "#FF6692",
           "#B6E880",
           "#FF97FF",
           "#FECB52"
          ],
          "font": {
           "color": "#2a3f5f"
          },
          "geo": {
           "bgcolor": "white",
           "lakecolor": "white",
           "landcolor": "#E5ECF6",
           "showlakes": true,
           "showland": true,
           "subunitcolor": "white"
          },
          "hoverlabel": {
           "align": "left"
          },
          "hovermode": "closest",
          "mapbox": {
           "style": "light"
          },
          "paper_bgcolor": "white",
          "plot_bgcolor": "#E5ECF6",
          "polar": {
           "angularaxis": {
            "gridcolor": "white",
            "linecolor": "white",
            "ticks": ""
           },
           "bgcolor": "#E5ECF6",
           "radialaxis": {
            "gridcolor": "white",
            "linecolor": "white",
            "ticks": ""
           }
          },
          "scene": {
           "xaxis": {
            "backgroundcolor": "#E5ECF6",
            "gridcolor": "white",
            "gridwidth": 2,
            "linecolor": "white",
            "showbackground": true,
            "ticks": "",
            "zerolinecolor": "white"
           },
           "yaxis": {
            "backgroundcolor": "#E5ECF6",
            "gridcolor": "white",
            "gridwidth": 2,
            "linecolor": "white",
            "showbackground": true,
            "ticks": "",
            "zerolinecolor": "white"
           },
           "zaxis": {
            "backgroundcolor": "#E5ECF6",
            "gridcolor": "white",
            "gridwidth": 2,
            "linecolor": "white",
            "showbackground": true,
            "ticks": "",
            "zerolinecolor": "white"
           }
          },
          "shapedefaults": {
           "line": {
            "color": "#2a3f5f"
           }
          },
          "ternary": {
           "aaxis": {
            "gridcolor": "white",
            "linecolor": "white",
            "ticks": ""
           },
           "baxis": {
            "gridcolor": "white",
            "linecolor": "white",
            "ticks": ""
           },
           "bgcolor": "#E5ECF6",
           "caxis": {
            "gridcolor": "white",
            "linecolor": "white",
            "ticks": ""
           }
          },
          "title": {
           "x": 0.05
          },
          "xaxis": {
           "automargin": true,
           "gridcolor": "white",
           "linecolor": "white",
           "ticks": "",
           "title": {
            "standoff": 15
           },
           "zerolinecolor": "white",
           "zerolinewidth": 2
          },
          "yaxis": {
           "automargin": true,
           "gridcolor": "white",
           "linecolor": "white",
           "ticks": "",
           "title": {
            "standoff": 15
           },
           "zerolinecolor": "white",
           "zerolinewidth": 2
          }
         }
        },
        "title": {
         "text": "Benchmarking SnakeCube"
        },
        "xaxis": {
         "anchor": "y",
         "domain": [
          0,
          0.94
         ],
         "title": {
          "text": "<b>Time<b>"
         }
        },
        "yaxis": {
         "anchor": "x",
         "domain": [
          0,
          1
         ],
         "title": {
          "text": "<b>Load Average</b>"
         }
        },
        "yaxis2": {
         "anchor": "x",
         "overlaying": "y",
         "side": "right",
         "title": {
          "text": "<b>Memory USS</b>"
         }
        }
       }
      },
      "text/html": [
       "<div>\n",
       "        \n",
       "        \n",
       "            <div id=\"5597aa1e-391f-4bbd-b599-ca29a4c3e7d2\" class=\"plotly-graph-div\" style=\"height:525px; width:100%;\"></div>\n",
       "            <script type=\"text/javascript\">\n",
       "                require([\"plotly\"], function(Plotly) {\n",
       "                    window.PLOTLYENV=window.PLOTLYENV || {};\n",
       "                    \n",
       "                if (document.getElementById(\"5597aa1e-391f-4bbd-b599-ca29a4c3e7d2\")) {\n",
       "                    Plotly.newPlot(\n",
       "                        '5597aa1e-391f-4bbd-b599-ca29a4c3e7d2',\n",
       "                        [{\"name\": \"Load Average\", \"type\": \"scatter\", \"x\": [1174.3979666666667, 3139.0261000000005, 4042.2718, 5958.839266666667, 8191.6974, 9331.913233333333, 41990.7286, 55291.05526666666, 76760.62413333333, 86342.48706666667, 126144.66433333333], \"xaxis\": \"x\", \"y\": [2.135, 3.1566666666666667, 2.65, 4.25, 6.285, 7.9799999999999995, 13.930648148148146, 7.866071967248438, 12.583128019323672, 11.823212121212121, 13.636879270647652], \"yaxis\": \"y\"}, {\"name\": \"Memory USS\", \"type\": \"scatter\", \"x\": [1174.3979666666667, 3139.0261000000005, 4042.2718, 5958.839266666667, 8191.6974, 9331.913233333333, 41990.7286, 55291.05526666666, 76760.62413333333, 86342.48706666667, 126144.66433333333], \"xaxis\": \"x\", \"y\": [256.21666666666664, 10834.476666666667, 255.79333333333332, 322.48333333333335, 19721.26, 275.49333333333334, 98097.08, 33082.25666666666, 38905.65666666667, 40395.56666666667, 87363.61], \"yaxis\": \"y2\"}],\n",
       "                        {\"template\": {\"data\": {\"bar\": [{\"error_x\": {\"color\": \"#2a3f5f\"}, \"error_y\": {\"color\": \"#2a3f5f\"}, \"marker\": {\"line\": {\"color\": \"#E5ECF6\", \"width\": 0.5}}, \"type\": \"bar\"}], \"barpolar\": [{\"marker\": {\"line\": {\"color\": \"#E5ECF6\", \"width\": 0.5}}, \"type\": \"barpolar\"}], \"carpet\": [{\"aaxis\": {\"endlinecolor\": \"#2a3f5f\", \"gridcolor\": \"white\", \"linecolor\": \"white\", \"minorgridcolor\": \"white\", \"startlinecolor\": \"#2a3f5f\"}, \"baxis\": {\"endlinecolor\": \"#2a3f5f\", \"gridcolor\": \"white\", \"linecolor\": \"white\", \"minorgridcolor\": \"white\", \"startlinecolor\": \"#2a3f5f\"}, \"type\": \"carpet\"}], \"choropleth\": [{\"colorbar\": {\"outlinewidth\": 0, \"ticks\": \"\"}, \"type\": \"choropleth\"}], \"contour\": [{\"colorbar\": {\"outlinewidth\": 0, \"ticks\": \"\"}, \"colorscale\": [[0.0, \"#0d0887\"], [0.1111111111111111, \"#46039f\"], [0.2222222222222222, \"#7201a8\"], [0.3333333333333333, \"#9c179e\"], [0.4444444444444444, \"#bd3786\"], [0.5555555555555556, \"#d8576b\"], [0.6666666666666666, \"#ed7953\"], [0.7777777777777778, \"#fb9f3a\"], [0.8888888888888888, \"#fdca26\"], [1.0, \"#f0f921\"]], \"type\": \"contour\"}], \"contourcarpet\": [{\"colorbar\": {\"outlinewidth\": 0, \"ticks\": \"\"}, \"type\": \"contourcarpet\"}], \"heatmap\": [{\"colorbar\": {\"outlinewidth\": 0, \"ticks\": \"\"}, \"colorscale\": [[0.0, \"#0d0887\"], [0.1111111111111111, \"#46039f\"], [0.2222222222222222, \"#7201a8\"], [0.3333333333333333, \"#9c179e\"], [0.4444444444444444, \"#bd3786\"], [0.5555555555555556, \"#d8576b\"], [0.6666666666666666, \"#ed7953\"], [0.7777777777777778, \"#fb9f3a\"], [0.8888888888888888, \"#fdca26\"], [1.0, \"#f0f921\"]], \"type\": \"heatmap\"}], \"heatmapgl\": [{\"colorbar\": {\"outlinewidth\": 0, \"ticks\": \"\"}, \"colorscale\": [[0.0, \"#0d0887\"], [0.1111111111111111, \"#46039f\"], [0.2222222222222222, \"#7201a8\"], [0.3333333333333333, \"#9c179e\"], [0.4444444444444444, \"#bd3786\"], [0.5555555555555556, \"#d8576b\"], [0.6666666666666666, \"#ed7953\"], [0.7777777777777778, \"#fb9f3a\"], [0.8888888888888888, \"#fdca26\"], [1.0, \"#f0f921\"]], \"type\": \"heatmapgl\"}], \"histogram\": [{\"marker\": {\"colorbar\": {\"outlinewidth\": 0, \"ticks\": \"\"}}, \"type\": \"histogram\"}], \"histogram2d\": [{\"colorbar\": {\"outlinewidth\": 0, \"ticks\": \"\"}, \"colorscale\": [[0.0, \"#0d0887\"], [0.1111111111111111, \"#46039f\"], [0.2222222222222222, \"#7201a8\"], [0.3333333333333333, \"#9c179e\"], [0.4444444444444444, \"#bd3786\"], [0.5555555555555556, \"#d8576b\"], [0.6666666666666666, \"#ed7953\"], [0.7777777777777778, \"#fb9f3a\"], [0.8888888888888888, \"#fdca26\"], [1.0, \"#f0f921\"]], \"type\": \"histogram2d\"}], \"histogram2dcontour\": [{\"colorbar\": {\"outlinewidth\": 0, \"ticks\": \"\"}, \"colorscale\": [[0.0, \"#0d0887\"], [0.1111111111111111, \"#46039f\"], [0.2222222222222222, \"#7201a8\"], [0.3333333333333333, \"#9c179e\"], [0.4444444444444444, \"#bd3786\"], [0.5555555555555556, \"#d8576b\"], [0.6666666666666666, \"#ed7953\"], [0.7777777777777778, \"#fb9f3a\"], [0.8888888888888888, \"#fdca26\"], [1.0, \"#f0f921\"]], \"type\": \"histogram2dcontour\"}], \"mesh3d\": [{\"colorbar\": {\"outlinewidth\": 0, \"ticks\": \"\"}, \"type\": \"mesh3d\"}], \"parcoords\": [{\"line\": {\"colorbar\": {\"outlinewidth\": 0, \"ticks\": \"\"}}, \"type\": \"parcoords\"}], \"pie\": [{\"automargin\": true, \"type\": \"pie\"}], \"scatter\": [{\"marker\": {\"colorbar\": {\"outlinewidth\": 0, \"ticks\": \"\"}}, \"type\": \"scatter\"}], \"scatter3d\": [{\"line\": {\"colorbar\": {\"outlinewidth\": 0, \"ticks\": \"\"}}, \"marker\": {\"colorbar\": {\"outlinewidth\": 0, \"ticks\": \"\"}}, \"type\": \"scatter3d\"}], \"scattercarpet\": [{\"marker\": {\"colorbar\": {\"outlinewidth\": 0, \"ticks\": \"\"}}, \"type\": \"scattercarpet\"}], \"scattergeo\": [{\"marker\": {\"colorbar\": {\"outlinewidth\": 0, \"ticks\": \"\"}}, \"type\": \"scattergeo\"}], \"scattergl\": [{\"marker\": {\"colorbar\": {\"outlinewidth\": 0, \"ticks\": \"\"}}, \"type\": \"scattergl\"}], \"scattermapbox\": [{\"marker\": {\"colorbar\": {\"outlinewidth\": 0, \"ticks\": \"\"}}, \"type\": \"scattermapbox\"}], \"scatterpolar\": [{\"marker\": {\"colorbar\": {\"outlinewidth\": 0, \"ticks\": \"\"}}, \"type\": \"scatterpolar\"}], \"scatterpolargl\": [{\"marker\": {\"colorbar\": {\"outlinewidth\": 0, \"ticks\": \"\"}}, \"type\": \"scatterpolargl\"}], \"scatterternary\": [{\"marker\": {\"colorbar\": {\"outlinewidth\": 0, \"ticks\": \"\"}}, \"type\": \"scatterternary\"}], \"surface\": [{\"colorbar\": {\"outlinewidth\": 0, \"ticks\": \"\"}, \"colorscale\": [[0.0, \"#0d0887\"], [0.1111111111111111, \"#46039f\"], [0.2222222222222222, \"#7201a8\"], [0.3333333333333333, \"#9c179e\"], [0.4444444444444444, \"#bd3786\"], [0.5555555555555556, \"#d8576b\"], [0.6666666666666666, \"#ed7953\"], [0.7777777777777778, \"#fb9f3a\"], [0.8888888888888888, \"#fdca26\"], [1.0, \"#f0f921\"]], \"type\": \"surface\"}], \"table\": [{\"cells\": {\"fill\": {\"color\": \"#EBF0F8\"}, \"line\": {\"color\": \"white\"}}, \"header\": {\"fill\": {\"color\": \"#C8D4E3\"}, \"line\": {\"color\": \"white\"}}, \"type\": \"table\"}]}, \"layout\": {\"annotationdefaults\": {\"arrowcolor\": \"#2a3f5f\", \"arrowhead\": 0, \"arrowwidth\": 1}, \"coloraxis\": {\"colorbar\": {\"outlinewidth\": 0, \"ticks\": \"\"}}, \"colorscale\": {\"diverging\": [[0, \"#8e0152\"], [0.1, \"#c51b7d\"], [0.2, \"#de77ae\"], [0.3, \"#f1b6da\"], [0.4, \"#fde0ef\"], [0.5, \"#f7f7f7\"], [0.6, \"#e6f5d0\"], [0.7, \"#b8e186\"], [0.8, \"#7fbc41\"], [0.9, \"#4d9221\"], [1, \"#276419\"]], \"sequential\": [[0.0, \"#0d0887\"], [0.1111111111111111, \"#46039f\"], [0.2222222222222222, \"#7201a8\"], [0.3333333333333333, \"#9c179e\"], [0.4444444444444444, \"#bd3786\"], [0.5555555555555556, \"#d8576b\"], [0.6666666666666666, \"#ed7953\"], [0.7777777777777778, \"#fb9f3a\"], [0.8888888888888888, \"#fdca26\"], [1.0, \"#f0f921\"]], \"sequentialminus\": [[0.0, \"#0d0887\"], [0.1111111111111111, \"#46039f\"], [0.2222222222222222, \"#7201a8\"], [0.3333333333333333, \"#9c179e\"], [0.4444444444444444, \"#bd3786\"], [0.5555555555555556, \"#d8576b\"], [0.6666666666666666, \"#ed7953\"], [0.7777777777777778, \"#fb9f3a\"], [0.8888888888888888, \"#fdca26\"], [1.0, \"#f0f921\"]]}, \"colorway\": [\"#636efa\", \"#EF553B\", \"#00cc96\", \"#ab63fa\", \"#FFA15A\", \"#19d3f3\", \"#FF6692\", \"#B6E880\", \"#FF97FF\", \"#FECB52\"], \"font\": {\"color\": \"#2a3f5f\"}, \"geo\": {\"bgcolor\": \"white\", \"lakecolor\": \"white\", \"landcolor\": \"#E5ECF6\", \"showlakes\": true, \"showland\": true, \"subunitcolor\": \"white\"}, \"hoverlabel\": {\"align\": \"left\"}, \"hovermode\": \"closest\", \"mapbox\": {\"style\": \"light\"}, \"paper_bgcolor\": \"white\", \"plot_bgcolor\": \"#E5ECF6\", \"polar\": {\"angularaxis\": {\"gridcolor\": \"white\", \"linecolor\": \"white\", \"ticks\": \"\"}, \"bgcolor\": \"#E5ECF6\", \"radialaxis\": {\"gridcolor\": \"white\", \"linecolor\": \"white\", \"ticks\": \"\"}}, \"scene\": {\"xaxis\": {\"backgroundcolor\": \"#E5ECF6\", \"gridcolor\": \"white\", \"gridwidth\": 2, \"linecolor\": \"white\", \"showbackground\": true, \"ticks\": \"\", \"zerolinecolor\": \"white\"}, \"yaxis\": {\"backgroundcolor\": \"#E5ECF6\", \"gridcolor\": \"white\", \"gridwidth\": 2, \"linecolor\": \"white\", \"showbackground\": true, \"ticks\": \"\", \"zerolinecolor\": \"white\"}, \"zaxis\": {\"backgroundcolor\": \"#E5ECF6\", \"gridcolor\": \"white\", \"gridwidth\": 2, \"linecolor\": \"white\", \"showbackground\": true, \"ticks\": \"\", \"zerolinecolor\": \"white\"}}, \"shapedefaults\": {\"line\": {\"color\": \"#2a3f5f\"}}, \"ternary\": {\"aaxis\": {\"gridcolor\": \"white\", \"linecolor\": \"white\", \"ticks\": \"\"}, \"baxis\": {\"gridcolor\": \"white\", \"linecolor\": \"white\", \"ticks\": \"\"}, \"bgcolor\": \"#E5ECF6\", \"caxis\": {\"gridcolor\": \"white\", \"linecolor\": \"white\", \"ticks\": \"\"}}, \"title\": {\"x\": 0.05}, \"xaxis\": {\"automargin\": true, \"gridcolor\": \"white\", \"linecolor\": \"white\", \"ticks\": \"\", \"title\": {\"standoff\": 15}, \"zerolinecolor\": \"white\", \"zerolinewidth\": 2}, \"yaxis\": {\"automargin\": true, \"gridcolor\": \"white\", \"linecolor\": \"white\", \"ticks\": \"\", \"title\": {\"standoff\": 15}, \"zerolinecolor\": \"white\", \"zerolinewidth\": 2}}}, \"title\": {\"text\": \"Benchmarking SnakeCube\"}, \"xaxis\": {\"anchor\": \"y\", \"domain\": [0.0, 0.94], \"title\": {\"text\": \"<b>Time<b>\"}}, \"yaxis\": {\"anchor\": \"x\", \"domain\": [0.0, 1.0], \"title\": {\"text\": \"<b>Load Average</b>\"}}, \"yaxis2\": {\"anchor\": \"x\", \"overlaying\": \"y\", \"side\": \"right\", \"title\": {\"text\": \"<b>Memory USS</b>\"}}},\n",
       "                        {\"responsive\": true}\n",
       "                    ).then(function(){\n",
       "                            \n",
       "var gd = document.getElementById('5597aa1e-391f-4bbd-b599-ca29a4c3e7d2');\n",
       "var x = new MutationObserver(function (mutations, observer) {{\n",
       "        var display = window.getComputedStyle(gd).display;\n",
       "        if (!display || display === 'none') {{\n",
       "            console.log([gd, 'removed!']);\n",
       "            Plotly.purge(gd);\n",
       "            observer.disconnect();\n",
       "        }}\n",
       "}});\n",
       "\n",
       "// Listen for the removal of the full notebook cells\n",
       "var notebookContainer = gd.closest('#notebook-container');\n",
       "if (notebookContainer) {{\n",
       "    x.observe(notebookContainer, {childList: true});\n",
       "}}\n",
       "\n",
       "// Listen for the clearing of the current output cell\n",
       "var outputEl = gd.closest('.output');\n",
       "if (outputEl) {{\n",
       "    x.observe(outputEl, {childList: true});\n",
       "}}\n",
       "\n",
       "                        })\n",
       "                };\n",
       "                });\n",
       "            </script>\n",
       "        </div>"
      ]
     },
     "metadata": {},
     "output_type": "display_data"
    }
   ],
   "source": [
    "# Create figure with secondary y-axis\n",
    "fig = make_subplots(specs=[[{\"secondary_y\": True}]])\n",
    "\n",
    "# Add traces\n",
    "fig.add_trace(\n",
    "    go.Scatter(x = BenchDuration, y = BenchLoad, name=\"Load Average\"),\n",
    "    secondary_y=False,\n",
    ")\n",
    "\n",
    "fig.add_trace(\n",
    "    go.Scatter(x = BenchDuration, y = BenchMem, name=\"Memory USS\"),\n",
    "    secondary_y=True,\n",
    ")\n",
    "\n",
    "# Add figure title\n",
    "fig.update_layout(\n",
    "    title_text=\"Benchmarking SnakeCube\"\n",
    ")\n",
    "\n",
    "# Set x-axis title\n",
    "fig.update_xaxes(title_text=\"<b>Time<b>\")\n",
    "\n",
    "# Set y-axes titles\n",
    "fig.update_yaxes(title_text=\"<b>Load Average</b>\", secondary_y=False)\n",
    "fig.update_yaxes(title_text=\"<b>Memory USS</b>\", secondary_y=True)\n",
    "\n",
    "fig.show()"
   ]
  },
  {
   "cell_type": "markdown",
   "metadata": {},
   "source": [
    "### Run times for serial (2 to 20 cpus) and parallel runs"
   ]
  },
  {
   "cell_type": "code",
   "execution_count": 5,
   "metadata": {},
   "outputs": [],
   "source": [
    "#Read benchmarks from Parallel and Serial folders for each dataset\n",
    "dfL1_fastq_c = pd.read_csv('/home/nellie/Genome_Assembly/Benchs/Parallel/Crane/fastq_c.csv',sep = \"\\t\")\n",
    "dfL1_trimming_s = pd.read_csv('/home/nellie/Genome_Assembly/Benchs/Parallel/Crane/trimming_s.csv',sep = \"\\t\")\n",
    "dfL1_fastq_c_t = pd.read_csv('/home/nellie/Genome_Assembly/Benchs/Parallel/Crane/fastq_c_t.csv',sep = \"\\t\")\n",
    "dfL1_nanoq_c = pd.read_csv('/home/nellie/Genome_Assembly/Benchs/Parallel/Crane/nanoq_c.csv',sep = \"\\t\")\n",
    "dfL1_trimming_l = pd.read_csv('/home/nellie/Genome_Assembly/Benchs/Parallel/Crane/trimming_l.csv',sep = \"\\t\")\n",
    "dfL1_nanoq_c_t = pd.read_csv('/home/nellie/Genome_Assembly/Benchs/Parallel/Crane/nanoq_c_t.csv',sep = \"\\t\")\n",
    "dfL1_flye = pd.read_csv('/home/nellie/Genome_Assembly/Benchs/Parallel/Crane/FlyeAssGenie.csv',sep = \"\\t\")\n",
    "dfL1_QA_1 = pd.read_csv('/home/nellie/Genome_Assembly/Benchs/Parallel/Crane/QA_1.csv',sep = \"\\t\")\n",
    "dfL1_polish = pd.read_csv('/home/nellie/Genome_Assembly/Benchs/Parallel/Crane/Polish.csv',sep = \"\\t\")\n",
    "dfL1_QA_2 = pd.read_csv('/home/nellie/Genome_Assembly/Benchs/Parallel/Crane/QA_2.csv',sep = \"\\t\")\n",
    "dfL1_pilon = pd.read_csv('/home/nellie/Genome_Assembly/Benchs/Parallel/Crane/Piloning.csv',sep = \"\\t\")\n",
    "\n",
    "\n",
    "\n",
    "BenchL1 = pd.concat([dfL1_fastq_c,dfL1_trimming_s,dfL1_fastq_c_t,dfL1_nanoq_c,dfL1_trimming_l,dfL1_nanoq_c_t, dfL1_flye, dfL1_QA_1, dfL1_polish, dfL1_QA_2, dfL1_pilon],axis = 0)\n",
    "BenchL1=BenchL1.drop(['h:m:s', 'io_in', 'io_out', 'mean_load', 'max_pss','max_rss'], axis=1)\n",
    "BenchL1[\"Rules\"] = [\"fastq_c\",\"trimming_s\",\"fastq_c_t\",\"nanoq_c\",\"trimming_l\",\"nanoq_c_t\",\"Flye\",\"QA_1\",\"Polish\",\"QA_2\",\"Piloning\"] \n",
    "\n",
    "Time_CombinedL1 = []\n",
    "#Increasing Time Benchmark\n",
    "for i in range(len(BenchL1)): \n",
    "    Time_CombinedL1.append(sum(BenchL1[\"s\"][:i+1]))\n",
    "\n",
    "BenchL1[\"Time\"] = Time_CombinedL1"
   ]
  }
 ],
 "metadata": {
  "kernelspec": {
   "display_name": "Python 2",
   "language": "python",
   "name": "python2"
  },
  "language_info": {
   "codemirror_mode": {
    "name": "ipython",
    "version": 2
   },
   "file_extension": ".py",
   "mimetype": "text/x-python",
   "name": "python",
   "nbconvert_exporter": "python",
   "pygments_lexer": "ipython2",
   "version": "2.7.17"
  }
 },
 "nbformat": 4,
 "nbformat_minor": 2
}
